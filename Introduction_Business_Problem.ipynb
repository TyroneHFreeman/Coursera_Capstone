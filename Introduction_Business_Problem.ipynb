{
 "cells": [
  {
   "cell_type": "markdown",
   "metadata": {
    "collapsed": true
   },
   "source": [
    "# Problem Description\n",
    "\n",
    "In this project we will study the United States' regional restaurant dining preferences using the Foursquare API.  We are interested in if there is sufficient evidence that regional differences exist in cuisine preference between regions of the United States, where the regions are defined as in the image below:\n",
    "\n",
    "<a href=\"https://study.com/cimages/videopreview/videopreview-full/ey77bdn841.jpg\"><img src = \"https://study.com/cimages/videopreview/videopreview-full/ey77bdn841.jpg\" width = 400> </a>\n",
    "\n",
    "To determine the extent of the phenomenon we will use a clustering algorithm similar to the one used in the previous lab, and examine to which extent the cuisine preferences of various cities align with their regional neighbors.  \n",
    "\n",
    "In addition, since cuisine is often characterized in terms of its ethnic origin, we will examine the ethnic makeup of each city examined and determine the correlation between the most popular food and the percentage of residents having its corresponding ethnic background.  For example, in the West Coast, we know that there is a higher East Asian population, so we expect there to be a greater interest in Chinese, Japanese, and Korean food relative to the rest of the country.  It is not obvious, however, how highly correlated the popularity of this food is with respect to the demographic statistics.  After completing this project we hope to have a better intuition on the nature of this relationship."
   ]
  },
  {
   "cell_type": "markdown",
   "metadata": {},
   "source": []
  },
  {
   "cell_type": "code",
   "execution_count": null,
   "metadata": {},
   "outputs": [],
   "source": []
  }
 ],
 "metadata": {
  "kernelspec": {
   "display_name": "Python 3.7",
   "language": "python",
   "name": "python3"
  },
  "language_info": {
   "codemirror_mode": {
    "name": "ipython",
    "version": 3
   },
   "file_extension": ".py",
   "mimetype": "text/x-python",
   "name": "python",
   "nbconvert_exporter": "python",
   "pygments_lexer": "ipython3",
   "version": "3.7.10"
  }
 },
 "nbformat": 4,
 "nbformat_minor": 1
}
