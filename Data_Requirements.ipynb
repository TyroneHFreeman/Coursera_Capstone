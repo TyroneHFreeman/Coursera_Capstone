{
 "cells": [
  {
   "cell_type": "markdown",
   "metadata": {
    "collapsed": true
   },
   "source": [
    "# Data Requirements\n",
    "\n",
    "In order to perform the experiment, we need to select the cities from each region that we will examine, and we need to get the demographic data of each city.  From each city we will use the FourSquare database to collect the data on the most popular types of restaurants.  For each city, we will select a large number of restaurants, with a maximum radius so that we do not select restaurants far outside of our city in less populated areas.  The precise number of locations selected will depend on the limitations of the FourSquare Free API account.\n",
    "\n",
    "The 10 cities per region are as follows:\n",
    "\n",
    "## South\n",
    "\n",
    "<a href=\"https://ontheworldmap.com/usa/map-of-southern-us.jpg\"><img src = \"https://ontheworldmap.com/usa/map-of-southern-us.jpg\" width = 400> </a>\n",
    "\n",
    "1. Dallas, Texas\n",
    "2. Houston, Texas\n",
    "3. Tulsa, Oklahoma\n",
    "4. Atlanta, Georgia\n",
    "5. Jacksonville, Florida\n",
    "6. New Orleans, Louisiana\n",
    "7. Memphis, Tennessee\n",
    "8. Greensboro, North Carolina\n",
    "9. Lexington, Kentucky\n",
    "10. Charleston, West Virginia\n",
    "\n",
    "## North\n",
    "\n",
    "<a href=\"https://ontheworldmap.com/usa/map-of-northeastern-us.jpg\"><img src = \"https://ontheworldmap.com/usa/map-of-northeastern-us.jpg\" width = 400> </a>\n",
    "\n",
    "1. Hartford, Connecticut\n",
    "2. Buffalo, New York\n",
    "3. New York City, New York\n",
    "4. Boston, Massachusetts\n",
    "5. Philadelphia, Pennsylvania\n",
    "6. Pittsburgh, Pennsylvania\n",
    "7. Baltimore, Maryland\n",
    "8. Dover, Delaware\n",
    "9. Portland, Maine\n",
    "10. Newark, New Jersey\n",
    "\n",
    "## Midwest\n",
    "\n",
    "<a href=\"https://ontheworldmap.com/usa/map-of-midwestern-us.jpg\"><img src = \"https://ontheworldmap.com/usa/map-of-midwestern-us.jpg\" width = 400> </a>\n",
    "\n",
    "1. Chicago, Illinois\n",
    "2. Saint Louis, Missouri\n",
    "3. Des Moines, Iowa\n",
    "4. Minneapolis, Minnesota\n",
    "5. Lincoln, Nebraska\n",
    "6. Kansas City, Missouri\n",
    "7. Indianapolis, Indiana\n",
    "8. Columbus, Ohio\n",
    "9. Detroit, Michigan\n",
    "10. Fargo, North Dakota\n",
    "\n",
    "## West\n",
    "\n",
    "<a href=\"https://ontheworldmap.com/usa/map-of-western-us.jpg\"><img src = \"https://ontheworldmap.com/usa/map-of-western-us.jpg\" width = 400> </a>\n",
    "\n",
    "1. Los Angeles, California\n",
    "2. Las Vegas, Nevada\n",
    "3. San Francisco, California\n",
    "4. Seattle, Washington\n",
    "5. Phoenix, Arizona\n",
    "6. Albuquerque, New Mexico\n",
    "7. Salt Lake City, Utah\n",
    "8. Boise, Idaho\n",
    "9. San Jose, California\n",
    "10. Portland, Oregon \n",
    "\n",
    "Finally, we will need to scrape demographic data from each city in order to perform the correlation between food choice and demographics, and also we need to obtain the coordinates of each city for the venue search.  We will find this information on Wikipedia.\n"
   ]
  },
  {
   "cell_type": "code",
   "execution_count": null,
   "metadata": {},
   "outputs": [],
   "source": []
  }
 ],
 "metadata": {
  "kernelspec": {
   "display_name": "Python 3.7",
   "language": "python",
   "name": "python3"
  },
  "language_info": {
   "codemirror_mode": {
    "name": "ipython",
    "version": 3
   },
   "file_extension": ".py",
   "mimetype": "text/x-python",
   "name": "python",
   "nbconvert_exporter": "python",
   "pygments_lexer": "ipython3",
   "version": "3.7.10"
  }
 },
 "nbformat": 4,
 "nbformat_minor": 1
}
